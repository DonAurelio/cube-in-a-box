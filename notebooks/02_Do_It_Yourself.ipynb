{
 "cells": [
  {
   "cell_type": "markdown",
   "metadata": {},
   "source": [
    "# Do it yourself\n",
    "\n",
    "In the following notebook, you'll be exploring how you can load and visualise data using a set of simple Open Data Cube commands.\n",
    "\n",
    "Before you get started, you should save this notebook to somewhere outside the `examples` folder, so that your work wont get overwritten when you next log in.\n",
    "\n",
    "As you work through this notebook you will:\n",
    "1. Pick a study area anywhere in Australia.\n",
    "1. Explore available data products for your study area.\n",
    "1. Set up a datacube load command to load data for your study area.\n",
    "1. Plot data that has been loaded, exploring plotting of different timesteps.\n",
    "1. Export data to an image format to view on your local computer.\n",
    "\n",
    "Let's get started.\n",
    "\n",
    "First, please use Google Maps to pick a study site in Australia and click on the map. You should be able to select the lat/lon coordiantes. Visit [maps.google.com](https://www.google.com/maps/@-28.6035447,135.9291226,4.93z) to select a site. The image below shows the coordinates that you can select at the bottom of the image.\n",
    "\n",
    "![google maps coordinates](images/google_maps.jpg \"Google Maps Coordinates\")\n",
    "\n",
    "\n",
    "*Note that there are three example study sites below that you can use if you like. Uncomment the one you'd like to look at. Once you've picked a site, you need to run or re-run each cell below to run the analysis on the new data.*"
   ]
  },
  {
   "cell_type": "code",
   "execution_count": null,
   "metadata": {},
   "outputs": [],
   "source": [
    "# Example study site one, Dead Dog Creek in Queensland\n",
    "coordinates = [-14.642744, 144.899747]\n",
    "\n",
    "# Example study site two, Giles Creek near Alice Springs\n",
    "# coordinates = [-23.765165, 134.724024]\n",
    "\n",
    "# Example study site three, Lake Disappointment in WA\n",
    "# coordinates = [-23.481127, 122.817712]\n",
    "\n",
    "# Paste your coordinates here, and remove the hash to uncomment\n",
    "# coordinates = []"
   ]
  },
  {
   "cell_type": "code",
   "execution_count": null,
   "metadata": {},
   "outputs": [],
   "source": [
    "# For simplicity, store the centre X and Y coords\n",
    "centre_x = coordinates[1]  # longitude\n",
    "centre_y = coordinates[0]  # latitude\n",
    "\n",
    "# And now make a bounding box with them\n",
    "# Note that you can change the box_size to load more data. More data means longer load, though!\n",
    "box_size = 0.1\n",
    "bounding_box_x =  (centre_x - box_size, centre_x + box_size)\n",
    "bounding_box_y =  (centre_y - box_size, centre_y + box_size)"
   ]
  },
  {
   "cell_type": "markdown",
   "metadata": {},
   "source": [
    "## Loading a cube of data\n",
    "\n",
    "This next section does the load. First we set up a datacube object, `dc`, which has all the functions of the Open Data Cube library, and then we use the `dc.load()` function to load data. You can see the parameters that we've set below, but you can change them, for example, adding or removing measurements based on [product metadata](ODC_and_DEA_Metadata.ipynb)."
   ]
  },
  {
   "cell_type": "code",
   "execution_count": null,
   "metadata": {},
   "outputs": [],
   "source": []
  },
  {
   "cell_type": "code",
   "execution_count": 1,
   "metadata": {},
   "outputs": [
    {
     "name": "stderr",
     "output_type": "stream",
     "text": [
      "Failed to resolve driver datacube.plugins.index::default\n",
      "Error was: ContextualVersionConflict(cligj 0.4.0 (/usr/local/lib/python3.6/dist-packages), Requirement.parse('cligj>=0.5'), {'rasterio'})\n",
      "Failed to resolve driver datacube.plugins.index::s3aio_index\n",
      "Error was: ContextualVersionConflict(cligj 0.4.0 (/usr/local/lib/python3.6/dist-packages), Requirement.parse('cligj>=0.5'), {'rasterio'})\n"
     ]
    }
   ],
   "source": [
    "%matplotlib inline\n",
    "import datacube\n",
    "import warnings\n",
    "warnings.filterwarnings('ignore')  # suppress warnings\n",
    "\n",
    "dc = datacube.Datacube(app='do-it-yourself')\n"
   ]
  },
  {
   "cell_type": "code",
   "execution_count": 9,
   "metadata": {},
   "outputs": [
    {
     "data": {
      "text/plain": [
       "[Dataset <id=e30af0bb-e29d-551e-8fb5-76b305773cd5 type=usgs_ls8c_level2_2 location=s3://deafrica-collection2-testing/nigeria/usgs_ls8c_level2_2/188/053/2018/05/01/usgs_ls8c_level2_2-0-20190821_188053_2018-05-01.odc-metadata.yaml>]"
      ]
     },
     "execution_count": 9,
     "metadata": {},
     "output_type": "execute_result"
    }
   ],
   "source": [
    "dc.find_datasets(product='usgs_ls8c_level2_2')"
   ]
  },
  {
   "cell_type": "code",
   "execution_count": 13,
   "metadata": {},
   "outputs": [
    {
     "ename": "AttributeError",
     "evalue": "'NoneType' object has no attribute 'to_crs'",
     "output_type": "error",
     "traceback": [
      "\u001b[0;31m---------------------------------------------------------------------------\u001b[0m",
      "\u001b[0;31mAttributeError\u001b[0m                            Traceback (most recent call last)",
      "\u001b[0;32m<ipython-input-13-3547e89be1bc>\u001b[0m in \u001b[0;36m<module>\u001b[0;34m\u001b[0m\n\u001b[1;32m      5\u001b[0m     \u001b[0mproduct\u001b[0m\u001b[0;34m=\u001b[0m\u001b[0;34m'usgs_ls8c_level2_2'\u001b[0m\u001b[0;34m,\u001b[0m\u001b[0;34m\u001b[0m\u001b[0;34m\u001b[0m\u001b[0m\n\u001b[1;32m      6\u001b[0m     \u001b[0moutput_crs\u001b[0m\u001b[0;34m=\u001b[0m\u001b[0;34m'epsg:4326'\u001b[0m\u001b[0;34m,\u001b[0m\u001b[0;34m\u001b[0m\u001b[0;34m\u001b[0m\u001b[0m\n\u001b[0;32m----> 7\u001b[0;31m     \u001b[0mresolution\u001b[0m\u001b[0;34m=\u001b[0m\u001b[0;34m(\u001b[0m\u001b[0;36m0.001\u001b[0m\u001b[0;34m,\u001b[0m \u001b[0;36m0.001\u001b[0m\u001b[0;34m)\u001b[0m\u001b[0;34m\u001b[0m\u001b[0;34m\u001b[0m\u001b[0m\n\u001b[0m\u001b[1;32m      8\u001b[0m )\n",
      "\u001b[0;32m/usr/local/lib/python3.6/dist-packages/datacube-1.7+121.g9db718ff.dirty-py3.6.egg/datacube/api/core.py\u001b[0m in \u001b[0;36mload\u001b[0;34m(self, product, measurements, output_crs, resolution, resampling, skip_broken_datasets, dask_chunks, like, fuse_func, align, datasets, progress_cbk, **query)\u001b[0m\n\u001b[1;32m    299\u001b[0m         geobox = output_geobox(like=like, output_crs=output_crs, resolution=resolution, align=align,\n\u001b[1;32m    300\u001b[0m                                \u001b[0mgrid_spec\u001b[0m\u001b[0;34m=\u001b[0m\u001b[0mself\u001b[0m\u001b[0;34m.\u001b[0m\u001b[0mindex\u001b[0m\u001b[0;34m.\u001b[0m\u001b[0mproducts\u001b[0m\u001b[0;34m.\u001b[0m\u001b[0mget_by_name\u001b[0m\u001b[0;34m(\u001b[0m\u001b[0mproduct\u001b[0m\u001b[0;34m)\u001b[0m\u001b[0;34m.\u001b[0m\u001b[0mgrid_spec\u001b[0m\u001b[0;34m,\u001b[0m\u001b[0;34m\u001b[0m\u001b[0;34m\u001b[0m\u001b[0m\n\u001b[0;32m--> 301\u001b[0;31m                                datasets=observations, **query)\n\u001b[0m\u001b[1;32m    302\u001b[0m \u001b[0;34m\u001b[0m\u001b[0m\n\u001b[1;32m    303\u001b[0m         \u001b[0mgroup_by\u001b[0m \u001b[0;34m=\u001b[0m \u001b[0mquery_group_by\u001b[0m\u001b[0;34m(\u001b[0m\u001b[0;34m**\u001b[0m\u001b[0mquery\u001b[0m\u001b[0;34m)\u001b[0m\u001b[0;34m\u001b[0m\u001b[0;34m\u001b[0m\u001b[0m\n",
      "\u001b[0;32m/usr/local/lib/python3.6/dist-packages/datacube-1.7+121.g9db718ff.dirty-py3.6.egg/datacube/api/core.py\u001b[0m in \u001b[0;36moutput_geobox\u001b[0;34m(like, output_crs, resolution, align, grid_spec, datasets, geopolygon, **query)\u001b[0m\n\u001b[1;32m    705\u001b[0m \u001b[0;34m\u001b[0m\u001b[0m\n\u001b[1;32m    706\u001b[0m         \u001b[0;32mif\u001b[0m \u001b[0mgeopolygon\u001b[0m \u001b[0;32mis\u001b[0m \u001b[0;32mNone\u001b[0m\u001b[0;34m:\u001b[0m\u001b[0;34m\u001b[0m\u001b[0;34m\u001b[0m\u001b[0m\n\u001b[0;32m--> 707\u001b[0;31m             \u001b[0mgeopolygon\u001b[0m \u001b[0;34m=\u001b[0m \u001b[0mget_bounds\u001b[0m\u001b[0;34m(\u001b[0m\u001b[0mdatasets\u001b[0m\u001b[0;34m,\u001b[0m \u001b[0mcrs\u001b[0m\u001b[0;34m)\u001b[0m\u001b[0;34m\u001b[0m\u001b[0;34m\u001b[0m\u001b[0m\n\u001b[0m\u001b[1;32m    708\u001b[0m \u001b[0;34m\u001b[0m\u001b[0m\n\u001b[1;32m    709\u001b[0m     \u001b[0;32mreturn\u001b[0m \u001b[0mgeometry\u001b[0m\u001b[0;34m.\u001b[0m\u001b[0mGeoBox\u001b[0m\u001b[0;34m.\u001b[0m\u001b[0mfrom_geopolygon\u001b[0m\u001b[0;34m(\u001b[0m\u001b[0mgeopolygon\u001b[0m\u001b[0;34m,\u001b[0m \u001b[0mresolution\u001b[0m\u001b[0;34m,\u001b[0m \u001b[0mcrs\u001b[0m\u001b[0;34m,\u001b[0m \u001b[0malign\u001b[0m\u001b[0;34m)\u001b[0m\u001b[0;34m\u001b[0m\u001b[0;34m\u001b[0m\u001b[0m\n",
      "\u001b[0;32m/usr/local/lib/python3.6/dist-packages/datacube-1.7+121.g9db718ff.dirty-py3.6.egg/datacube/api/core.py\u001b[0m in \u001b[0;36mget_bounds\u001b[0;34m(datasets, crs)\u001b[0m\n\u001b[1;32m    741\u001b[0m \u001b[0;34m\u001b[0m\u001b[0m\n\u001b[1;32m    742\u001b[0m \u001b[0;32mdef\u001b[0m \u001b[0mget_bounds\u001b[0m\u001b[0;34m(\u001b[0m\u001b[0mdatasets\u001b[0m\u001b[0;34m,\u001b[0m \u001b[0mcrs\u001b[0m\u001b[0;34m)\u001b[0m\u001b[0;34m:\u001b[0m\u001b[0;34m\u001b[0m\u001b[0;34m\u001b[0m\u001b[0m\n\u001b[0;32m--> 743\u001b[0;31m     \u001b[0mbbox\u001b[0m \u001b[0;34m=\u001b[0m \u001b[0mgeometry\u001b[0m\u001b[0;34m.\u001b[0m\u001b[0mbbox_union\u001b[0m\u001b[0;34m(\u001b[0m\u001b[0mds\u001b[0m\u001b[0;34m.\u001b[0m\u001b[0mextent\u001b[0m\u001b[0;34m.\u001b[0m\u001b[0mto_crs\u001b[0m\u001b[0;34m(\u001b[0m\u001b[0mcrs\u001b[0m\u001b[0;34m)\u001b[0m\u001b[0;34m.\u001b[0m\u001b[0mboundingbox\u001b[0m \u001b[0;32mfor\u001b[0m \u001b[0mds\u001b[0m \u001b[0;32min\u001b[0m \u001b[0mdatasets\u001b[0m\u001b[0;34m)\u001b[0m\u001b[0;34m\u001b[0m\u001b[0;34m\u001b[0m\u001b[0m\n\u001b[0m\u001b[1;32m    744\u001b[0m     \u001b[0;32mreturn\u001b[0m \u001b[0mgeometry\u001b[0m\u001b[0;34m.\u001b[0m\u001b[0mbox\u001b[0m\u001b[0;34m(\u001b[0m\u001b[0;34m*\u001b[0m\u001b[0mbbox\u001b[0m\u001b[0;34m,\u001b[0m \u001b[0mcrs\u001b[0m\u001b[0;34m=\u001b[0m\u001b[0mcrs\u001b[0m\u001b[0;34m)\u001b[0m\u001b[0;34m\u001b[0m\u001b[0;34m\u001b[0m\u001b[0m\n\u001b[1;32m    745\u001b[0m \u001b[0;34m\u001b[0m\u001b[0m\n",
      "\u001b[0;32m/usr/local/lib/python3.6/dist-packages/datacube-1.7+121.g9db718ff.dirty-py3.6.egg/datacube/utils/geometry/_base.py\u001b[0m in \u001b[0;36mbbox_union\u001b[0;34m(bbs)\u001b[0m\n\u001b[1;32m   1087\u001b[0m     \u001b[0mR\u001b[0m \u001b[0;34m=\u001b[0m \u001b[0mT\u001b[0m \u001b[0;34m=\u001b[0m \u001b[0mfloat\u001b[0m\u001b[0;34m(\u001b[0m\u001b[0;34m'-inf'\u001b[0m\u001b[0;34m)\u001b[0m\u001b[0;34m\u001b[0m\u001b[0;34m\u001b[0m\u001b[0m\n\u001b[1;32m   1088\u001b[0m \u001b[0;34m\u001b[0m\u001b[0m\n\u001b[0;32m-> 1089\u001b[0;31m     \u001b[0;32mfor\u001b[0m \u001b[0mbb\u001b[0m \u001b[0;32min\u001b[0m \u001b[0mbbs\u001b[0m\u001b[0;34m:\u001b[0m\u001b[0;34m\u001b[0m\u001b[0;34m\u001b[0m\u001b[0m\n\u001b[0m\u001b[1;32m   1090\u001b[0m         \u001b[0ml\u001b[0m\u001b[0;34m,\u001b[0m \u001b[0mb\u001b[0m\u001b[0;34m,\u001b[0m \u001b[0mr\u001b[0m\u001b[0;34m,\u001b[0m \u001b[0mt\u001b[0m \u001b[0;34m=\u001b[0m \u001b[0mbb\u001b[0m\u001b[0;34m\u001b[0m\u001b[0;34m\u001b[0m\u001b[0m\n\u001b[1;32m   1091\u001b[0m         \u001b[0mL\u001b[0m \u001b[0;34m=\u001b[0m \u001b[0mmin\u001b[0m\u001b[0;34m(\u001b[0m\u001b[0ml\u001b[0m\u001b[0;34m,\u001b[0m \u001b[0mL\u001b[0m\u001b[0;34m)\u001b[0m\u001b[0;34m\u001b[0m\u001b[0;34m\u001b[0m\u001b[0m\n",
      "\u001b[0;32m/usr/local/lib/python3.6/dist-packages/datacube-1.7+121.g9db718ff.dirty-py3.6.egg/datacube/api/core.py\u001b[0m in \u001b[0;36m<genexpr>\u001b[0;34m(.0)\u001b[0m\n\u001b[1;32m    741\u001b[0m \u001b[0;34m\u001b[0m\u001b[0m\n\u001b[1;32m    742\u001b[0m \u001b[0;32mdef\u001b[0m \u001b[0mget_bounds\u001b[0m\u001b[0;34m(\u001b[0m\u001b[0mdatasets\u001b[0m\u001b[0;34m,\u001b[0m \u001b[0mcrs\u001b[0m\u001b[0;34m)\u001b[0m\u001b[0;34m:\u001b[0m\u001b[0;34m\u001b[0m\u001b[0;34m\u001b[0m\u001b[0m\n\u001b[0;32m--> 743\u001b[0;31m     \u001b[0mbbox\u001b[0m \u001b[0;34m=\u001b[0m \u001b[0mgeometry\u001b[0m\u001b[0;34m.\u001b[0m\u001b[0mbbox_union\u001b[0m\u001b[0;34m(\u001b[0m\u001b[0mds\u001b[0m\u001b[0;34m.\u001b[0m\u001b[0mextent\u001b[0m\u001b[0;34m.\u001b[0m\u001b[0mto_crs\u001b[0m\u001b[0;34m(\u001b[0m\u001b[0mcrs\u001b[0m\u001b[0;34m)\u001b[0m\u001b[0;34m.\u001b[0m\u001b[0mboundingbox\u001b[0m \u001b[0;32mfor\u001b[0m \u001b[0mds\u001b[0m \u001b[0;32min\u001b[0m \u001b[0mdatasets\u001b[0m\u001b[0;34m)\u001b[0m\u001b[0;34m\u001b[0m\u001b[0;34m\u001b[0m\u001b[0m\n\u001b[0m\u001b[1;32m    744\u001b[0m     \u001b[0;32mreturn\u001b[0m \u001b[0mgeometry\u001b[0m\u001b[0;34m.\u001b[0m\u001b[0mbox\u001b[0m\u001b[0;34m(\u001b[0m\u001b[0;34m*\u001b[0m\u001b[0mbbox\u001b[0m\u001b[0;34m,\u001b[0m \u001b[0mcrs\u001b[0m\u001b[0;34m=\u001b[0m\u001b[0mcrs\u001b[0m\u001b[0;34m)\u001b[0m\u001b[0;34m\u001b[0m\u001b[0;34m\u001b[0m\u001b[0m\n\u001b[1;32m    745\u001b[0m \u001b[0;34m\u001b[0m\u001b[0m\n",
      "\u001b[0;31mAttributeError\u001b[0m: 'NoneType' object has no attribute 'to_crs'"
     ]
    }
   ],
   "source": [
    "\n",
    "# This command here does the loading of data\n",
    "# Please be patient, it can take some time to load, depending on the size of your study area\n",
    "# For the example study area, this took 1 minute\n",
    "data_cube = dc.load(\n",
    "    product='usgs_ls8c_level2_2',\n",
    "    output_crs='epsg:4326',\n",
    "    resolution=(0.001, 0.001)\n",
    ")"
   ]
  },
  {
   "cell_type": "code",
   "execution_count": null,
   "metadata": {},
   "outputs": [],
   "source": [
    "# This will give information on how much data was loaded\n",
    "# Most interesting is the 'Dimensions' section, that tells you how many timesteps were loaded\n",
    "# and the x/y resolution of the cube.\n",
    "print(data_cube)"
   ]
  },
  {
   "cell_type": "markdown",
   "metadata": {},
   "source": [
    "## Plotting data\n",
    "\n",
    "The next step uses Matplotlib to plot some data. We use a quick function to prepare the data, called `three_band_image`, which will prepare the measurements from the datacube we loaded into something Matplotlib expects. Later, we show another way to plot a simple single-band image.\n",
    "\n",
    "You should experiment with plotting different timesteps or combinations of bands."
   ]
  },
  {
   "cell_type": "code",
   "execution_count": null,
   "metadata": {
    "scrolled": false
   },
   "outputs": [],
   "source": [
    "import matplotlib.pyplot as plt\n",
    "\n",
    "# Note that this import should work if this notebook is either in examples or in the root folder.\n",
    "try:\n",
    "    from utils.utils import three_band_image\n",
    "except ImportError:\n",
    "    from examples.utils.utils import three_band_image\n",
    "\n",
    "\n",
    "# Change these!\n",
    "# You can change the time to anything from 0 to one less than the number of timesteps.\n",
    "# For example, if there are 6 timesteps, the largest time you can use is 5.\n",
    "time = 1\n",
    "\n",
    "# The bands can be any of the bands that we loaded above, so any of:\n",
    "# 'nbar_red', 'nbar_green', 'nbar_blue', 'nbar_nir_1'\n",
    "# You can experiment with plotting in false-colour, for example, try ['nbar_nir_1', 'nbar_red', 'nbar_green']\n",
    "# You can switch between the two band lists specified below or write your own.\n",
    "bands = ['nbar_red', 'nbar_green', 'nbar_blue']\n",
    "# bands = ['nbar_nir_1', 'nbar_red', 'nbar_green']\n",
    "\n",
    "\n",
    "# Prepare the image\n",
    "img_toshow = three_band_image(\n",
    "    data_cube,\n",
    "    bands=bands,\n",
    "    time=time\n",
    ")\n",
    "# Format the time string nicely\n",
    "time_string = str(data_cube.time.isel(time=time).values).split('.')[0]\n",
    "\n",
    "# And plot it\n",
    "plt.figure(figsize=(10,10))\n",
    "ax = plt.gca()\n",
    "ax.set_title(\"Timestep {}\".format(time_string), fontweight='bold', fontsize=16)\n",
    "ax.set_xticklabels(data_cube.x.values)\n",
    "ax.set_yticklabels(data_cube.y.values)\n",
    "ax.set_xlabel('Easting', fontweight='bold')\n",
    "ax.set_ylabel('Northing', fontweight='bold')\n",
    "\n",
    "plt.imshow(img_toshow)"
   ]
  },
  {
   "cell_type": "markdown",
   "metadata": {},
   "source": [
    "##  Exporting data\n",
    "The last task here is to export the data for your study site. You can change the name of the filename so that you know what the file is going to be called. After the file has been created, you can download it from the Jupyter directory it was exported into."
   ]
  },
  {
   "cell_type": "code",
   "execution_count": null,
   "metadata": {},
   "outputs": [],
   "source": [
    "from datacube import helpers\n",
    "\n",
    "# You can change this, if you like.\n",
    "filename = \"example.tiff\"\n",
    "\n",
    "helpers.write_geotiff(dataset=data_cube.isel(time=1), filename=filename)"
   ]
  },
  {
   "cell_type": "markdown",
   "metadata": {},
   "source": [
    "## Stretch goal: Calculate NDVI\n",
    "\n",
    "If you've come this far and you'd like to do something a bit fancier, you can have a go at calculating the normalised difference vegetation index (NDVI) over your study site. There is a definition of what [NDVI is on Wikipedia](https://en.wikipedia.org/wiki/Normalized_difference_vegetation_index).\n",
    "\n",
    "Basically, you need to use the following formula:\n",
    "\n",
    "$$\n",
    "\\begin{aligned}\n",
    "ndvi & = \\frac{(nir - red)}{(nir + red)} \\\\\n",
    "\\end{aligned}\n",
    "$$\n",
    "    \n",
    "Some hints:\n",
    " * You can access bands of an Xarray (the data format we're using) with their name, like this: `data_cube.bandname`\n",
    " * You can do simple math with bands by simply referring to them, like this: `data_cube.bandname_1 + data_cube.bandname_2`\n",
    " * The two band names you're after are `nbar_nir_1`, which is near infra-red, and `nbar_red`, which is red.\n"
   ]
  },
  {
   "cell_type": "code",
   "execution_count": null,
   "metadata": {},
   "outputs": [],
   "source": [
    "# Calculate NDVI here\n",
    "ndvi = # Your calculation goes here\n",
    "\n",
    "# This is the simple way to plot\n",
    "# Note that high values are likely to be vegetation.\n",
    "plt.figure(figsize=(10,10))\n",
    "ndvi.isel(time=1).plot()\n",
    "plt.show()"
   ]
  }
 ],
 "metadata": {
  "kernelspec": {
   "display_name": "Python 3",
   "language": "python",
   "name": "python3"
  },
  "language_info": {
   "codemirror_mode": {
    "name": "ipython",
    "version": 3
   },
   "file_extension": ".py",
   "mimetype": "text/x-python",
   "name": "python",
   "nbconvert_exporter": "python",
   "pygments_lexer": "ipython3",
   "version": "3.6.8"
  }
 },
 "nbformat": 4,
 "nbformat_minor": 2
}
